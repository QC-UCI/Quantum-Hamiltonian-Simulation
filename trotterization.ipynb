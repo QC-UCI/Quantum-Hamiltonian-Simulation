{
 "cells": [
  {
   "cell_type": "markdown",
   "metadata": {},
   "source": [
    "# Trotterization and Operator Splitting"
   ]
  },
  {
   "cell_type": "markdown",
   "metadata": {},
   "source": [
    "Recall the form of our Hamiltonian,\n",
    "\n",
    "$$\\hat{H} = \\frac{\\hat{p}^2}{2m} + V(\\hat{x}),$$\n",
    "\n",
    "and our time evolution unitary,\n",
    "\n",
    "$$\\hat{U} = \\exp(-i\\hat{H}t/\\hbar),$$\n",
    "\n",
    "which we want to approximate. Now in $\\hat{H}$, the kinetic energy term is only dependent on $\\hat{p}$ and the potential energy term is only dependent on $\\hat{x}$. Naturally, we might consider splitting the Hamiltonian, since if we express our quantum state in terms of the $p$ and then the $x$ basis before doing each transformation, we could get away with only using diagonal operators. But in general,\n",
    "\n",
    "$$\\exp(A+B) \\neq \\exp(A)\\exp(B)$$\n",
    "\n",
    "if $A$ and $B$ do not commute. However, we can still split the operator if we reduce the error by a method called trotterization, in which we make the approximation\n",
    "\n",
    "$$e^{A+B} \\approx e^{A/2}e^Be^{A/2}. $$\n",
    "\n",
    "Full details of the error and the motivation for this approximation are given in the Appendix at the bottom of this notebook, but are omitted here so that we can get to the methods as quickly as possible."
   ]
  },
  {
   "cell_type": "code",
   "execution_count": 1,
   "metadata": {},
   "outputs": [],
   "source": [
    "%matplotlib inline\n",
    "import numpy as np\n",
    "import matplotlib.pyplot as plt\n",
    "\n",
    "from qiskit import QuantumCircuit\n",
    "from qiskit import QuantumRegister, ClassicalRegister\n",
    "from qiskit import execute, Aer\n",
    "from qiskit.visualization import plot_histogram\n",
    "from qiskit.quantum_info.operators import Operator, Pauli\n",
    "from qiskit.circuit.library import QFT"
   ]
  },
  {
   "cell_type": "markdown",
   "metadata": {},
   "source": [
    "Remember that we'll be switching between the $p$ and $x$ in order to allow $\\exp\\left(\\frac{-i\\hat{p}^2}{2m\\hbar}\\Delta t\\right)$ and $\\exp\\left(\\frac{-iV(\\hat{x})}{\\hbar}\\Delta t\\right)$ to be diagonalizable. Therefore, we'll perform Fourier transforms in between.\n",
    "\n",
    "<img src=trotter_creditPeterLove.png>"
   ]
  },
  {
   "cell_type": "code",
   "execution_count": 5,
   "metadata": {},
   "outputs": [],
   "source": [
    "def second_order_trotter_Hamiltonian(qc, U_p, U_x, qubits):\n",
    "    '''Second-order Trotterization for the evolution of a state.\n",
    "    \n",
    "    Args:\n",
    "        qc: QuantumCircuit instance\n",
    "        U_p, U_x: Operators, evolutions for the p and x -basis, respectively\n",
    "        qubits: indexed QuantumRegister to apply to'''\n",
    "    num_qubits = len(qubits)\n",
    "    \n",
    "    #Diagonalize U_p to calculate sqrt(U_p)\n",
    "    eigvalues, P = np.linalg.eig(U_p.data)\n",
    "    D = np.diag(eigvalues)\n",
    "    sqrtU_p = Operator(P @ np.sqrt(D) @ np.linalg.inv(P))\n",
    "    \n",
    "    #Append components to circuit\n",
    "    qc.append(sqrtU_p, qubits)\n",
    "    qc.append(QFT(num_qubits, inverse=False), target_qubits)\n",
    "    qc.append(U_x, qubits)\n",
    "    qc.append(QFT(num_qubits, inverse=True), target_qubits)\n",
    "    qc.append(sqrtU_p, qubits)"
   ]
  },
  {
   "cell_type": "markdown",
   "metadata": {},
   "source": [
    "In general, when we have $H = \\sum^m_{k=1} H_k$, the Trotter expansion is\n",
    "\n",
    "$$ e^{-iHt} \\approx \\left(\\prod^m_{k=1}e^{-iH_{m-k+1}\\Delta_t/2} \\prod^m_{k=1}e^{-iH_k\\Delta_t/2}\\right)^N, ~\\Delta_t = \\frac{t}{N}.$$"
   ]
  },
  {
   "cell_type": "code",
   "execution_count": 6,
   "metadata": {},
   "outputs": [],
   "source": [
    "def trotter_H_k(qc, H_list, N, t, qubits):\n",
    "    '''General trotter formula for a Hamiltonian that is a sum of H_list'''\n",
    "    dt = t/N\n",
    "    m = len(H_list)\n",
    "    Op_list = []\n",
    "    \n",
    "    #Diagonalize H_k in order to calculate H_k^(dt/2)\n",
    "    for k in range(m):\n",
    "        eigvalues, P_k = np.linalg.eig(H_list[k])\n",
    "        D_k = np.diag(eigvalues)\n",
    "        Op_list[k] = Operator(P_k @ D_k**(dt/2) @ np.linalg.inv(P))\n",
    "    \n",
    "    #Create circuit\n",
    "    for _ in range(N):\n",
    "        for k in range(m):\n",
    "            qc.append(Op_list[k], qubits)\n",
    "        for k in range(m):\n",
    "            qc.append(Op_list[m-k+1], qubits)    "
   ]
  },
  {
   "cell_type": "markdown",
   "metadata": {},
   "source": [
    "Now let us test this on a circuit."
   ]
  },
  {
   "cell_type": "code",
   "execution_count": null,
   "metadata": {},
   "outputs": [],
   "source": [
    "################# Unfinished ################\n",
    "# qc = QuantumCircuit(5, 5)"
   ]
  },
  {
   "cell_type": "markdown",
   "metadata": {},
   "source": [
    "## Appendix: Error of the Approximation\n",
    "Much of this content was taken from Peter Love's presentation at the Duke summer school.\n",
    "\n",
    "In general,\n",
    "\n",
    "$$\\exp(A+B) \\neq \\exp(A)\\exp(B)$$\n",
    "\n",
    "if $A$ and $B$ do not commute. But how do they differ? Let's look at an operator $\\hat{U}$:\n",
    "\n",
    "$$\\hat{U} = \\exp((A+B)t) = \\sum^{\\infty}_{n=0}\\frac{(A+B)^n}{n!}t^n$$\n",
    "$$ = 1 + (A+B)t + \\frac{(A+B)^2}{2}t^2 + \\cdots$$\n",
    "\n",
    "Compare this to the approximation $\\tilde{U}$:\n",
    "\n",
    "$$ \\tilde{U} = \\exp(At)\\exp(Bt) = \\left(\\sum^{\\infty}_{n=0}\\frac{A^n}{n!}t^n\\right)\\left(\\sum^{\\infty}_{n=0}\\frac{B^n}{n!}t^n\\right)$$\n",
    "$$= \\left(1+At+\\frac{A^2}{2}t^2+\\cdots\\right)\\left(1+Bt+\\frac{B^2}{2}t^2+\\cdots\\right)$$\n",
    "$$ = 1 + (A+B)t + \\frac{A^2+AB+B^2}{2} + \\cdots$$\n",
    "\n",
    "Looking at the difference between $\\tilde{U}$ and $\\hat{U}$ up to only the second order terms, we have\n",
    "\n",
    "$$ \\tilde{U} = \\hat{U} - \\frac{BAt^2}{2} + \\frac{ABt^2}{2} + \\cdots$$\n",
    "\n",
    "$$ = \\hat{U} + \\frac{[A,B]t^2}{2} + \\cdots$$\n",
    "\n",
    "where $[A,B]$ is the called the commutator, and is defined as $[A,B] = AB - BA$.\n",
    "\n",
    "We could keep doing this to higher order terms; these are described by the [Baker-Campbell-Hausdorff formula](https://en.wikipedia.org/wiki/Baker%E2%80%93Campbell%E2%80%93Hausdorff_formula).\n",
    "Now how do we get our second-order errors to cancel out? We can try to approximate $e^{A+B}$ with\n",
    "\n",
    "$$e^{A/2}e^Be^{A/2}.$$\n",
    "\n",
    "First, the error from the right two terms, $e^C \\equiv e^Be^{A/2}$:\n",
    "\n",
    "$$ C = \\log(e^Be^{A/2}) = \\frac{A}{2} + B+ \\frac{[B,A]}{4} + \\frac{[B,[B,A]}{24} + \\frac{[A,[A,B]}{48} + \\cdots$$\n",
    "\n",
    "Then we include the $e^{A/2}$ term that was on the left:\n",
    "\n",
    "$$ \\log(e^{A/2}e^C) = \\frac{A}{2} + C + \\frac{[A,C]}{4} + \\frac{[A,[A,C]}{48} + \\frac{[C,[C,A]}{24} + \\cdots $$\n",
    "\n",
    "$$ = A+B + \\frac{[B,A]}{4}+\\frac{[A,B]}{4} + \\cdots$$\n",
    "\n",
    "$$ = A + B - \\frac{[B,[A,B]]}{12} - \\frac{[A,[A,B]]}{24}+ \\cdots, $$\n",
    "\n",
    "where in the last step we used the property that $[A,B] = -[B,A]$. And we have successfully eliminated our 2nd-order error terms."
   ]
  }
 ],
 "metadata": {
  "kernelspec": {
   "display_name": "Python 3",
   "language": "python",
   "name": "python3"
  },
  "language_info": {
   "codemirror_mode": {
    "name": "ipython",
    "version": 3
   },
   "file_extension": ".py",
   "mimetype": "text/x-python",
   "name": "python",
   "nbconvert_exporter": "python",
   "pygments_lexer": "ipython3",
   "version": "3.8.6"
  }
 },
 "nbformat": 4,
 "nbformat_minor": 4
}
