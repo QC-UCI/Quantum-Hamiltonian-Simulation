{
 "cells": [
  {
   "cell_type": "markdown",
   "metadata": {},
   "source": [
    "This code runs a basic digital quantum simulation of the time evolution of a single particle in 1-D space.\n",
    "We follow the general framework introduced in the slides: \n",
    "\n",
    "1. How do we represent the position and momentum of the particle using qubits?\n",
    "\n",
    "2. How do we initialize and measure the qubits? \n",
    "\n",
    "3. How do we simulate time evolution? \n",
    "\n",
    "4. How do we change between momentum and position bases? \n",
    "\n",
    "5. How do we implement diagonal unitaries? \n",
    "\n",
    "The first two are done naturally using the standard Qiskit operations. Time evolution can be computed using trotterization. The bases changes are done using QFT, since the fourier transform of a particle's state in the momentum basis gives us the state in the position basis. "
   ]
  },
  {
   "cell_type": "markdown",
   "metadata": {},
   "source": [
    "### Simulating Time Evolution\n",
    "We will use the following Hamiltonian to simulate time evolution\n",
    "\n",
    "$\\hat{H} = \\frac{\\hat{p}^2}{2m} + V(\\hat{x})$\n",
    "\n",
    "which can be represented in our circuit using the unitary\n",
    "\n",
    "$\\hat{U} = \\text{exp}(-i\\hat{H}t / \\hslash)$"
   ]
  },
  {
   "cell_type": "markdown",
   "metadata": {},
   "source": [
    "Import the necessary components"
   ]
  },
  {
   "cell_type": "code",
   "execution_count": 1,
   "metadata": {},
   "outputs": [],
   "source": [
    "#initialization\n",
    "import matplotlib.pyplot as plt\n",
    "import numpy as np\n",
    "import math\n",
    "\n",
    "# importing Qiskit\n",
    "from qiskit import IBMQ, Aer\n",
    "from qiskit import QuantumCircuit, ClassicalRegister, QuantumRegister, execute\n",
    "from qiskit.visualization import plot_histogram, plot_bloch_vector\n",
    "from qiskit.quantum_info import Statevector\n",
    "\n",
    "# import basic plot tools\n",
    "from qiskit.visualization import plot_histogram"
   ]
  },
  {
   "cell_type": "markdown",
   "metadata": {},
   "source": [
    "# Example 1: Gaussian Wave Function with No Potential\n",
    "\n",
    "## Outline of Kitaev-Webb Algorithm \n",
    "To prepare the Gaussian wavefunction, we use the Kitaev-Webb Algorithm that is outlined as follows: \n",
    "![Outline of Kitaev-Webb](./Kitaev-Webb.png)\n",
    "\n",
    "This algorithm can create the state of the periodic discrete Gaussian, which can be expressed recursively as \n",
    "$$\n",
    "\\newcommand{\\bra}[1]{\\left< #1 \\right|}\n",
    "\\newcommand{\\ket}[1]{\\left| #1 \\right>}\n",
    "\\newcommand{\\bk}[2]{\\left< #1 \\middle| #2 \\right>}\n",
    "\\newcommand{\\bke}[3]{\\left< #1 \\middle| #2 \\middle| #3 \\right>}$$\n",
    "\n",
    "$$\\ket{\\xi_{\\mu, \\sigma, N}} = \\ket{\\xi_{\\frac{\\mu}{2}, \\frac{\\sigma}{2}, N-1}} \\otimes \\cos(\\alpha) \\ket{0} + \\ket{\\xi_{\\frac{\\mu-1}{2}, \\frac{\\sigma}{2}, N-1}} \\otimes \\sin(\\alpha)\\ket{1} \\tag{11}$$.\n",
    "\n",
    "\n",
    "## Inputs"
   ]
  },
  {
   "cell_type": "code",
   "execution_count": 2,
   "metadata": {},
   "outputs": [],
   "source": [
    "mu = 0\n",
    "sigma = 1\n",
    "k = 3\n",
    "N = 3\n",
    "\n",
    "mu_size = 1  # The number of qubits used to represent mu\n",
    "sigma_size = 1  # The number of qubits used to represent sigma\n"
   ]
  },
  {
   "cell_type": "markdown",
   "metadata": {},
   "source": [
    "## Step 1. Creating the initial state"
   ]
  },
  {
   "cell_type": "code",
   "execution_count": 3,
   "metadata": {},
   "outputs": [
    {
     "data": {
      "text/html": [
       "<pre style=\"word-wrap: normal;white-space: pre;background: #fff0;line-height: 1.1;font-family: &quot;Courier New&quot;,Courier,monospace\">          \n",
       " alpha_0: \n",
       "          \n",
       " alpha_1: \n",
       "          \n",
       " alpha_2: \n",
       "          \n",
       "    mu_0: \n",
       "          \n",
       " sigma_0: \n",
       "          \n",
       "     n_0: \n",
       "          \n",
       "     n_1: \n",
       "          \n",
       "     n_2: \n",
       "          \n",
       "result_0: \n",
       "          \n",
       "result_1: \n",
       "          \n",
       "result_2: \n",
       "          </pre>"
      ],
      "text/plain": [
       "          \n",
       " alpha_0: \n",
       "          \n",
       " alpha_1: \n",
       "          \n",
       " alpha_2: \n",
       "          \n",
       "    mu_0: \n",
       "          \n",
       " sigma_0: \n",
       "          \n",
       "     n_0: \n",
       "          \n",
       "     n_1: \n",
       "          \n",
       "     n_2: \n",
       "          \n",
       "result_0: \n",
       "          \n",
       "result_1: \n",
       "          \n",
       "result_2: \n",
       "          "
      ]
     },
     "execution_count": 3,
     "metadata": {},
     "output_type": "execute_result"
    }
   ],
   "source": [
    "def binary_approx(n, k):\n",
    "    \"\"\"\n",
    "    \n",
    "    Input:\n",
    "        n: real number between 0 and 1\n",
    "        k: the number of bits use to approximate n\n",
    "        \n",
    "    Output: \n",
    "        a: a list such that the i-th element is 1 or 0\n",
    "    \"\"\"\n",
    "    a = []\n",
    "    total = 0\n",
    "    for i in range(1, k+1):\n",
    "        bit = 0\n",
    "        if (n > total + 1/2**i): \n",
    "            bit = 1\n",
    "        else:\n",
    "            bit = 0\n",
    "        a.append(bit)\n",
    "        total += bit/2**i\n",
    "    return (a, total)\n",
    "\n",
    "alpha_register = QuantumRegister(k, 'alpha')\n",
    "\n",
    "mu_register = QuantumRegister(mu_size, 'mu')\n",
    "sigma_register = QuantumRegister(sigma_size, 'sigma')\n",
    "N_register = QuantumRegister(N, 'n')\n",
    "res_register = QuantumRegister(N, 'result')\n",
    "\n",
    "qc = QuantumCircuit(alpha_register, mu_register, sigma_register, N_register, res_register)\n",
    "qc.draw()"
   ]
  },
  {
   "cell_type": "markdown",
   "metadata": {},
   "source": [
    "## Step 2. Compute $\\alpha$\n",
    "\n",
    "The angle $\\alpha$ is defined as\n",
    "\n",
    "$$\\alpha = \\cos^{-1}\\left(\\sqrt{\\frac{f(\\mu/2, \\sigma/2)}{f(\\mu, \\sigma)}}\\right). \\tag{12}$$\n",
    "\n",
    "The function $f$ is the normalization factor defined as follows: \n",
    "\n",
    "$$f(\\mu, \\sigma) = \\sum_{n=-\\infty}^{\\infty} e^{-\\frac{(n-\\mu)^2}{\\sigma^2}}. \\tag{7}$$\n",
    "\n",
    "To input the value $\\alpha$ into our quantum circuit, we need to approximate this number using the number of qubits we have. Since $0 \\leq \\alpha \\leq 2\\pi$, we can approximate this number using k-digits of binary notation given by the formula $\\frac{\\alpha}{2\\pi} \\approx \\sum_{i=1}^k \\frac{a_i}{2^i}$ that gives us the digits we need to approximate $\\alpha$ as $\\alpha \\approx \\sum_{i=1}^k \\pi\\frac{a_i}{2^{i-1}}$. Here, $a_i$ takes the values either 0 or 1. This binary notation gives us a way to implement the rotation operator as a sequence of $k$ standard rotations as \n",
    "$$R(\\alpha) \\approx R(\\pi/2^{k-1})^{\\alpha_k}\\cdots R(\\pi/2^2)^{\\alpha_2}R(\\pi/2)^{\\alpha_1}$$\n",
    "\n",
    "The following block implements some routines to implement the functions needed to create $\\alpha$. "
   ]
  },
  {
   "cell_type": "code",
   "execution_count": 4,
   "metadata": {},
   "outputs": [
    {
     "ename": "NameError",
     "evalue": "name 'g' is not defined",
     "output_type": "error",
     "traceback": [
      "\u001b[0;31m---------------------------------------------------------------------------\u001b[0m",
      "\u001b[0;31mNameError\u001b[0m                                 Traceback (most recent call last)",
      "\u001b[0;32m<ipython-input-4-e1142563ef0b>\u001b[0m in \u001b[0;36m<module>\u001b[0;34m\u001b[0m\n\u001b[1;32m      6\u001b[0m \u001b[0;34m\u001b[0m\u001b[0m\n\u001b[1;32m      7\u001b[0m \u001b[0;31m# Example code to verify correctness\u001b[0m\u001b[0;34m\u001b[0m\u001b[0;34m\u001b[0m\u001b[0;34m\u001b[0m\u001b[0m\n\u001b[0;32m----> 8\u001b[0;31m \u001b[0malpha\u001b[0m \u001b[0;34m=\u001b[0m \u001b[0mangle\u001b[0m\u001b[0;34m(\u001b[0m\u001b[0mmu\u001b[0m\u001b[0;34m,\u001b[0m \u001b[0msigma\u001b[0m\u001b[0;34m)\u001b[0m\u001b[0;34m/\u001b[0m\u001b[0;34m(\u001b[0m\u001b[0mnp\u001b[0m\u001b[0;34m.\u001b[0m\u001b[0mpi\u001b[0m\u001b[0;34m*\u001b[0m\u001b[0;36m2\u001b[0m\u001b[0;34m)\u001b[0m\u001b[0;34m\u001b[0m\u001b[0;34m\u001b[0m\u001b[0m\n\u001b[0m\u001b[1;32m      9\u001b[0m \u001b[0mprecision\u001b[0m \u001b[0;34m=\u001b[0m \u001b[0;36m6\u001b[0m\u001b[0;34m\u001b[0m\u001b[0;34m\u001b[0m\u001b[0m\n\u001b[1;32m     10\u001b[0m \u001b[0;34m\u001b[0m\u001b[0m\n",
      "\u001b[0;32m<ipython-input-4-e1142563ef0b>\u001b[0m in \u001b[0;36mangle\u001b[0;34m(mu, sigma, n)\u001b[0m\n\u001b[1;32m      3\u001b[0m \u001b[0;34m\u001b[0m\u001b[0m\n\u001b[1;32m      4\u001b[0m \u001b[0;32mdef\u001b[0m \u001b[0mangle\u001b[0m\u001b[0;34m(\u001b[0m\u001b[0mmu\u001b[0m\u001b[0;34m,\u001b[0m \u001b[0msigma\u001b[0m\u001b[0;34m,\u001b[0m \u001b[0mn\u001b[0m\u001b[0;34m=\u001b[0m\u001b[0;36m1000\u001b[0m\u001b[0;34m)\u001b[0m\u001b[0;34m:\u001b[0m\u001b[0;34m\u001b[0m\u001b[0;34m\u001b[0m\u001b[0m\n\u001b[0;32m----> 5\u001b[0;31m     \u001b[0;32mreturn\u001b[0m \u001b[0mnp\u001b[0m\u001b[0;34m.\u001b[0m\u001b[0marccos\u001b[0m\u001b[0;34m(\u001b[0m\u001b[0mmath\u001b[0m\u001b[0;34m.\u001b[0m\u001b[0msqrt\u001b[0m\u001b[0;34m(\u001b[0m\u001b[0mg\u001b[0m\u001b[0;34m(\u001b[0m\u001b[0mmu\u001b[0m\u001b[0;34m/\u001b[0m\u001b[0;36m2\u001b[0m\u001b[0;34m,\u001b[0m \u001b[0msigma\u001b[0m\u001b[0;34m/\u001b[0m\u001b[0;36m2\u001b[0m\u001b[0;34m,\u001b[0m \u001b[0mn\u001b[0m\u001b[0;34m)\u001b[0m\u001b[0;34m/\u001b[0m \u001b[0mg\u001b[0m\u001b[0;34m(\u001b[0m\u001b[0mmu\u001b[0m\u001b[0;34m,\u001b[0m \u001b[0msigma\u001b[0m\u001b[0;34m,\u001b[0m \u001b[0mn\u001b[0m\u001b[0;34m)\u001b[0m\u001b[0;34m)\u001b[0m\u001b[0;34m)\u001b[0m\u001b[0;34m\u001b[0m\u001b[0;34m\u001b[0m\u001b[0m\n\u001b[0m\u001b[1;32m      6\u001b[0m \u001b[0;34m\u001b[0m\u001b[0m\n\u001b[1;32m      7\u001b[0m \u001b[0;31m# Example code to verify correctness\u001b[0m\u001b[0;34m\u001b[0m\u001b[0;34m\u001b[0m\u001b[0;34m\u001b[0m\u001b[0m\n",
      "\u001b[0;31mNameError\u001b[0m: name 'g' is not defined"
     ]
    }
   ],
   "source": [
    "def f(mu, sigma, n):\n",
    "    return np.sum(np.exp((-(np.arange(-n, n+1, 1) - mu)**2)/float(sigma**2)))\n",
    "\n",
    "def angle(mu, sigma, n=1000):\n",
    "    return np.arccos(math.sqrt(f(mu/2, sigma/2, n)/ f(mu, sigma, n)))\n",
    "\n",
    "# Example code to verify correctness\n",
    "alpha = angle(mu, sigma)/(np.pi*2)\n",
    "precision = 6\n",
    "\n",
    "(alpha_binary, alpha_approx) = binary_approx(alpha, precision)\n",
    "\n",
    "print(alpha)\n",
    "print(alpha_approx)\n",
    "print(alpha_binary)"
   ]
  },
  {
   "cell_type": "code",
   "execution_count": null,
   "metadata": {},
   "outputs": [],
   "source": []
  },
  {
   "cell_type": "code",
   "execution_count": null,
   "metadata": {},
   "outputs": [],
   "source": [
    "def KWA(mu, sigma, k, N):\n",
    "    \"\"\"\n",
    "    Kitaev-Webb Algorithm to construct the prepare the Gaussian wavefunction\n",
    "    Parameters:\n",
    "        - mu: mean\n",
    "        - sigma: sd\n",
    "        - k: \n",
    "    \"\"\""
   ]
  },
  {
   "cell_type": "code",
   "execution_count": null,
   "metadata": {},
   "outputs": [],
   "source": [
    "qc = QuantumCircuit(4, 3)\n",
    "# qc.x(3)\n",
    "\n",
    "for qubit in range(4):\n",
    "    qc.h(qubit)\n",
    "\n",
    "qc.barrier() \n",
    "\n",
    "qc.cnot(0, 1)\n",
    "qc.cnot(1, 2)\n",
    "qc.cnot(2, 3)\n",
    "qc.rz(math.pi/4, 3)\n",
    "qc.cnot(2,3)\n",
    "qc.cnot(1,2)\n",
    "qc.cnot(0,1)\n",
    "\n",
    "qc.barrier() \n",
    "\n",
    "for qubit in range(4):\n",
    "    qc.h(qubit)\n",
    "\n",
    "qc.draw('mpl')\n"
   ]
  },
  {
   "cell_type": "code",
   "execution_count": null,
   "metadata": {},
   "outputs": [],
   "source": [
    "backend = Aer.get_backend('statevector_simulator') # Tell Qiskit how to simulate our circuit\n",
    "\n",
    "state = execute(qc, backend).result().get_statevector()\n",
    "print(\"Qubit State = \" + str(state))\n"
   ]
  },
  {
   "cell_type": "markdown",
   "metadata": {},
   "source": [
    "Notes: Fourier transform of the momentum operator is the position operator."
   ]
  }
 ],
 "metadata": {
  "kernelspec": {
   "display_name": "Python 3",
   "language": "python",
   "name": "python3"
  },
  "language_info": {
   "codemirror_mode": {
    "name": "ipython",
    "version": 3
   },
   "file_extension": ".py",
   "mimetype": "text/x-python",
   "name": "python",
   "nbconvert_exporter": "python",
   "pygments_lexer": "ipython3",
   "version": "3.8.3"
  }
 },
 "nbformat": 4,
 "nbformat_minor": 2
}
