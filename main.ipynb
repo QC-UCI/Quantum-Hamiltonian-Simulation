{
 "cells": [
  {
   "cell_type": "markdown",
   "metadata": {},
   "source": [
    "This code runs a basic digital quantum simulation of the time evolution of a single particle in 1-D space.\n",
    "We follow the general framework introduced in the slides: \n",
    "\n",
    "1. How do we represent the position and momentum of the particle using qubits?\n",
    "\n",
    "2. How do we initialize and measure the qubits? \n",
    "\n",
    "3. How do we simulate time evolution? \n",
    "\n",
    "4. How do we change between momentum and position bases? \n",
    "\n",
    "5. How do we implement diagonal unitaries? \n",
    "\n",
    "The first two are done naturally using the standard Qiskit operations. Time evolution can be computed using trotterization. The bases changes are done using QFT, since the fourier transform of a particle's state in the momentum basis gives us the state in the position basis. "
   ]
  },
  {
   "cell_type": "markdown",
   "metadata": {},
   "source": [
    "### Simulating Time Evolution\n",
    "We will use the following Hamiltonian to simulate time evolution\n",
    "\n",
    "$\\hat{H} = \\frac{\\hat{p}^2}{2m} + V(\\hat{x})$\n",
    "\n",
    "which can be represented in our circuit using the unitary\n",
    "\n",
    "$\\hat{U} = \\text{exp}(-i\\hat{H}t / \\hslash)$"
   ]
  },
  {
   "cell_type": "markdown",
   "metadata": {},
   "source": [
    "Import the necessary components"
   ]
  },
  {
   "cell_type": "code",
   "execution_count": 16,
   "metadata": {},
   "outputs": [],
   "source": [
    "#initialization\n",
    "import matplotlib.pyplot as plt\n",
    "import numpy as np\n",
    "import math\n",
    "\n",
    "# importing Qiskit\n",
    "from qiskit import IBMQ, Aer\n",
    "from qiskit import QuantumCircuit, ClassicalRegister, QuantumRegister, execute\n",
    "from qiskit.visualization import plot_histogram, plot_bloch_vector\n",
    "from qiskit.quantum_info import Statevector\n",
    "\n",
    "# import basic plot tools\n",
    "from qiskit.visualization import plot_histogram"
   ]
  },
  {
   "cell_type": "markdown",
   "metadata": {},
   "source": [
    "### Example 1: Gaussian Wave Function with No Potential\n",
    "\n",
    "#### Initialization\n",
    "We use the Kitaev-Webb Algorithm to first create our initial state. \n",
    "\n",
    "The goal here is to create the state of the periodic discrete Gaussian, which can be expressed recursively as \n",
    "$\n",
    "\\newcommand{\\bra}[1]{\\left< #1 \\right|}\n",
    "\\newcommand{\\ket}[1]{\\left| #1 \\right>}\n",
    "\\newcommand{\\bk}[2]{\\left< #1 \\middle| #2 \\right>}\n",
    "\\newcommand{\\bke}[3]{\\left< #1 \\middle| #2 \\middle| #3 \\right>}\n",
    "$\n",
    "\n",
    "$\\ket{\\xi_{\\mu, \\sigma, N}} = \\ket{\\xi_{\\frac{\\mu}{2}, \\frac{\\sigma}{2}, N-1}} \\otimes \\cos(\\alpha) \\ket{0} + \\ket{\\xi_{\\frac{\\mu-1}{2}, \\frac{\\sigma}{2}, N-1}} \\otimes \\sin(\\alpha)\\ket{1}$\n",
    "\n",
    "where the angle $\\alpha$ is given by \n",
    "\n",
    "$\\alpha = \\cos^{-1}\\left(\\sqrt{\\frac{g(\\mu/2, \\sigma/2)}{g(\\mu, \\sigma)}}\\right)$"
   ]
  },
  {
   "cell_type": "code",
   "execution_count": null,
   "metadata": {},
   "outputs": [],
   "source": [
    "def KWA(mu, sigma, k, N):\n",
    "    \"\"\"\n",
    "    Parameters:\n",
    "        - mu: mean\n",
    "        - sigma: sd\n",
    "        - k: \n",
    "    \"\"\""
   ]
  },
  {
   "cell_type": "code",
   "execution_count": 25,
   "metadata": {},
   "outputs": [
    {
     "data": {
      "image/png": "[encoded data removed]",
      "text/plain": [
       "<Figure size 748.797x325.08 with 1 Axes>"
      ]
     },
     "execution_count": 25,
     "metadata": {},
     "output_type": "execute_result"
    }
   ],
   "source": [
    "qc = QuantumCircuit(4, 3)\n",
    "# qc.x(3)\n",
    "\n",
    "for qubit in range(4):\n",
    "    qc.h(qubit)\n",
    "\n",
    "qc.barrier() \n",
    "\n",
    "qc.cnot(0, 1)\n",
    "qc.cnot(1, 2)\n",
    "qc.cnot(2, 3)\n",
    "qc.rz(math.pi/4, 3)\n",
    "qc.cnot(2,3)\n",
    "qc.cnot(1,2)\n",
    "qc.cnot(0,1)\n",
    "\n",
    "qc.barrier() \n",
    "\n",
    "for qubit in range(4):\n",
    "    qc.h(qubit)\n",
    "\n",
    "qc.draw('mpl')\n"
   ]
  },
  {
   "cell_type": "code",
   "execution_count": 23,
   "metadata": {},
   "outputs": [
    {
     "name": "stdout",
     "output_type": "stream",
     "text": [
      "Qubit State = [ 8.53553391e-01+3.53553391e-01j -2.77555756e-17+5.55111512e-17j\n",
      " -2.16489014e-17+6.24500451e-17j  9.76824214e-33-9.81307787e-18j\n",
      " -2.16489014e-17+7.85046229e-17j  6.48056559e-33-1.23259516e-32j\n",
      "  2.77555756e-17-6.93889390e-18j  3.55266892e-17-5.55111512e-17j\n",
      " -7.71600526e-17+5.55111512e-17j  8.92687396e-33-1.54074396e-32j\n",
      "  2.77555756e-17-6.93889390e-18j  3.14619793e-17-6.86915451e-17j\n",
      " -9.09026511e-33-1.96261557e-17j  3.55266892e-17-5.55111512e-17j\n",
      "  5.55111512e-17-4.85722573e-17j  1.46446609e-01-3.53553391e-01j]\n"
     ]
    }
   ],
   "source": [
    "backend = Aer.get_backend('statevector_simulator') # Tell Qiskit how to simulate our circuit\n",
    "\n",
    "state = execute(qc, backend).result().get_statevector()\n",
    "print(\"Qubit State = \" + str(state))\n"
   ]
  },
  {
   "cell_type": "markdown",
   "metadata": {},
   "source": [
    "Notes: Fourier transform of the momentum operator is the position operator."
   ]
  }
 ],
 "metadata": {
  "kernelspec": {
   "display_name": "Python 3",
   "language": "python",
   "name": "python3"
  },
  "language_info": {
   "codemirror_mode": {
    "name": "ipython",
    "version": 3
   },
   "file_extension": ".py",
   "mimetype": "text/x-python",
   "name": "python",
   "nbconvert_exporter": "python",
   "pygments_lexer": "ipython3",
   "version": "3.8.3"
  }
 },
 "nbformat": 4,
 "nbformat_minor": 2
}
