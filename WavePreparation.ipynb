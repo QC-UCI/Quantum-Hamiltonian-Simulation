{
 "cells": [
  {
   "cell_type": "code",
   "execution_count": 5,
   "metadata": {},
   "outputs": [],
   "source": [
    "# Preparation\n",
    "import matplotlib.pyplot as plt\n",
    "import numpy as np\n",
    "from numpy import sqrt, sin, cos, pi, arccos\n",
    "import scipy.integrate as integrate\n",
    "import scipy.special as special\n",
    "\n",
    "import math\n",
    "\n",
    "from qiskit import IBMQ, Aer\n",
    "from qiskit import QuantumCircuit, ClassicalRegister, QuantumRegister, execute\n",
    "from qiskit.visualization import plot_histogram, plot_bloch_vector\n",
    "from qiskit.quantum_info import Statevector\n",
    "from qiskit.circuit.library import RXGate"
   ]
  },
  {
   "cell_type": "code",
   "execution_count": 3,
   "metadata": {},
   "outputs": [],
   "source": [
    "# Helper Functions \n",
    "\n",
    "def get_histogram(qc, shots=5000):\n",
    "    backend = Aer.get_backend('qasm_simulator')\n",
    "    job = execute(qc, backend, shots=shots)\n",
    "    result = job.result()\n",
    "    return result.get_counts()\n",
    "\n",
    "# Norm(0, 1)\n",
    "def norm(x):\n",
    "    return (1/sqrt(2*pi))*np.exp(-x**2/2) \n"
   ]
  },
  {
   "cell_type": "markdown",
   "metadata": {},
   "source": [
    "## Grover-Rudolph Wavefunction Preparation\n",
    "This function takes as input a log-concave distribution and encodes it into an n qubit circuit. "
   ]
  },
  {
   "cell_type": "code",
   "execution_count": 156,
   "metadata": {
    "scrolled": false
   },
   "outputs": [
    {
     "data": {
      "image/png": "[encoded data removed]",
      "text/plain": [
       "<Figure size 504x360 with 1 Axes>"
      ]
     },
     "execution_count": 156,
     "metadata": {},
     "output_type": "execute_result"
    }
   ],
   "source": [
    "## TODO: \n",
    "#  - Figure out how to plot the 0 values too \n",
    "#  - Resolve the weird permutation stuff that's happening\n",
    "\n",
    "def GRA(n, dist, a, b):\n",
    "    \"\"\"\n",
    "    Grover Rudolph Wavefunction Preparation\n",
    "    \n",
    "    n: Number of qubits (precision)\n",
    "    dist: Distribution (must be log-concave)\n",
    "    a, b: Range of distribution\n",
    "    \"\"\"\n",
    "    R = b - a\n",
    "    F = []     # cos^2(angle) vector\n",
    "    T = []     # Angle vector\n",
    "    P = []     # Probability vector\n",
    "    \n",
    "    # Prepare the necessary vectors that store the probability of each wave in a given interval. \n",
    "    for m in range(0,n+1):\n",
    "        F.append([])\n",
    "        T.append([])\n",
    "        P.append([])\n",
    "        # Append array of size 2**m to each vector\n",
    "        for i in range(0, 2**m):\n",
    "            num_LB = a + (R / 2**m) * i       # Numerator lower bound\n",
    "            num_UB = num_LB + (R / 2**(m+1))  # Numerator upper bound\n",
    "            den_LB = a + (R / 2**m) * i       # Denominator lower bound\n",
    "            den_UB = a + (R / 2**m) * (i+1)   # Denominator lower bound\n",
    "            f = integrate.quad(dist, num_LB, num_UB)[0] / integrate.quad(dist, den_LB, den_UB)[0]\n",
    "            t = arccos(sqrt(f))\n",
    "            p = integrate.quad(dist, den_LB, den_UB)[0]\n",
    "            F[m].append(f)\n",
    "            T[m].append(t)\n",
    "            P[m].append(p)\n",
    "            \n",
    "    # Construct the circuit\n",
    "    qr = QuantumRegister(n,'q')\n",
    "    cr = ClassicalRegister(n,'c')\n",
    "    qc = QuantumCircuit(qr, cr)\n",
    "    \n",
    "    qc.rx(2*T[0][0], 0)\n",
    "    \n",
    "    for m in range(1, n):\n",
    "        qc.barrier()\n",
    "        control_qubits = []\n",
    "        for i in range(0, m):\n",
    "            control_qubits.append(qr[i])\n",
    "        for i in range(0, 2**m):\n",
    "            for j in range(0, m):\n",
    "                if i & int(2**(j)) == False:\n",
    "                    qc.x(m - j - 1)\n",
    "                else:\n",
    "                    pass\n",
    "            qc.mcrx(2*T[m][i], control_qubits, qr[m])\n",
    "            for j in range(0, m):\n",
    "                if i & int(2**(j)) == False:\n",
    "                    qc.x(m - j - 1)\n",
    "    \n",
    "    if (n % 2 == 0):\n",
    "        for i in range(0, n//2):\n",
    "            qc.swap(i, n-i-1)\n",
    "    else:\n",
    "        for i in range(0, (n-1)//2):\n",
    "            qc.swap(i, n-i-1)\n",
    "#     qc.swap(0, 3)\n",
    "#     qc.swap(1, 2)\n",
    "    return (qc, P)\n",
    "\n",
    "n=5\n",
    "(qc, P) = GRA(n, norm, 0, 24)\n",
    "qr = QuantumRegister(n,'q')\n",
    "cr = ClassicalRegister(n,'c')\n",
    "qc.measure(qr,cr)\n",
    "# print(P[-1])\n",
    "\n",
    "plot_histogram(get_histogram(qc))\n",
    "# qc.draw()"
   ]
  }
 ],
 "metadata": {
  "kernelspec": {
   "display_name": "Python 3",
   "language": "python",
   "name": "python3"
  },
  "language_info": {
   "codemirror_mode": {
    "name": "ipython",
    "version": 3
   },
   "file_extension": ".py",
   "mimetype": "text/x-python",
   "name": "python",
   "nbconvert_exporter": "python",
   "pygments_lexer": "ipython3",
   "version": "3.8.5"
  }
 },
 "nbformat": 4,
 "nbformat_minor": 2
}
